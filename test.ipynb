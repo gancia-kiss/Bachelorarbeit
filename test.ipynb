{
 "cells": [
  {
   "cell_type": "code",
   "execution_count": null,
   "metadata": {},
   "outputs": [
    {
     "name": "stdout",
     "output_type": "stream",
     "text": [
      "fertig\n",
      " * Serving Flask app \"__main__\" (lazy loading)\n",
      " * Environment: production\n",
      "   WARNING: This is a development server. Do not use it in a production deployment.\n",
      "   Use a production WSGI server instead.\n",
      " * Debug mode: off\n"
     ]
    },
    {
     "name": "stderr",
     "output_type": "stream",
     "text": [
      " * Running on http://127.0.0.1:5002/ (Press CTRL+C to quit)\n",
      "127.0.0.1 - - [29/Oct/2019 19:13:08] \"GET / HTTP/1.1\" 200 -\n",
      "127.0.0.1 - - [29/Oct/2019 19:13:55] \"GET /tasks HTTP/1.1\" 200 -\n"
     ]
    }
   ],
   "source": [
    "# Python code for Mandelbrot Fractal \n",
    "\n",
    "# Import necessary libraries \n",
    "from PIL import Image \n",
    "from numpy import complex, array \n",
    "import colorsys \n",
    "import json\n",
    "import base64\n",
    "#!flask/bin/python\n",
    "from flask import Flask, jsonify\n",
    "\n",
    "app = Flask(__name__)\n",
    "\n",
    "# setting the width of the output image as 1024 \n",
    "WIDTH = 1024\n",
    "\n",
    "# a function to return a tuple of colors \n",
    "# as integer value of rgb \n",
    "def rgb_conv(i): \n",
    "\tcolor = 255 * array(colorsys.hsv_to_rgb(i / 255.0, 1.0, 0.5)) \n",
    "\treturn tuple(color.astype(int)) \n",
    "\n",
    "# function defining a mandelbrot \n",
    "def mandelbrot(x, y): \n",
    "\tc0 = complex(x, y) \n",
    "\tc = 0\n",
    "\tfor i in range(1, 1000): \n",
    "\t\tif abs(c) > 2: \n",
    "\t\t\treturn rgb_conv(i) \n",
    "\t\tc = c * c + c0 \n",
    "\treturn (0, 0, 0) \n",
    "\n",
    "# creating the new image in RGB mode \n",
    "img = Image.new('RGB', (WIDTH, int(WIDTH / 2))) \n",
    "pixels = img.load() \n",
    "\n",
    "for x in range(img.size[0]): \n",
    "\n",
    "\t# displaying the progress as percentage \n",
    "\t#print(\"%.2f %%\" % (x / WIDTH * 100.0)) \n",
    "\tfor y in range(img.size[1]): \n",
    "\t\tpixels[x, y] = mandelbrot((x - (0.75 * WIDTH)) / (WIDTH / 4), \n",
    "\t\t\t\t\t\t\t\t\t(y - (WIDTH / 4)) / (WIDTH / 4)) \n",
    "\n",
    "# to display the created fractal after \n",
    "# completing the given number of iterations \n",
    "print('fertig')\n",
    "#img.show()\n",
    "\n",
    "img.save('output.png', 'PNG')\n",
    "data = {}\n",
    "with open('output.png', mode='rb') as file:\n",
    "    img = file.read() \n",
    "#img = img.read()\n",
    "data['img'] = base64.encodebytes(img).decode(\"utf-8\")\n",
    "\n",
    "\n",
    "@app.route('/')\n",
    "def index():\n",
    "  return 'Server Works!'\n",
    "  \n",
    "@app.route('/tasks', methods=['GET'])\n",
    "def get_tasks():\n",
    "    return json.dumps(data)\n",
    "\n",
    "if __name__ == '__main__':\n",
    "     app.run(port='5002')\n",
    "\n",
    "#print(json.dumps(data))\n",
    "\n",
    "#https://repl.it/repls/ImmenseCylindricalDll"
   ]
  },
  {
   "cell_type": "code",
   "execution_count": null,
   "metadata": {},
   "outputs": [],
   "source": []
  }
 ],
 "metadata": {
  "kernelspec": {
   "display_name": "Python 3",
   "language": "python",
   "name": "python3"
  },
  "language_info": {
   "codemirror_mode": {
    "name": "ipython",
    "version": 3
   },
   "file_extension": ".py",
   "mimetype": "text/x-python",
   "name": "python",
   "nbconvert_exporter": "python",
   "pygments_lexer": "ipython3",
   "version": "3.6.8"
  }
 },
 "nbformat": 4,
 "nbformat_minor": 2
}
