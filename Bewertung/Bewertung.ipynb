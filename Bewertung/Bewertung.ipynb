{
 "cells": [
  {
   "cell_type": "markdown",
   "metadata": {},
   "source": [
    "# Bewertung für Bachelorarbeit\n",
    "Autorin:  Frau Ingrid Tchilibou\n",
    "\n",
    "Bewerter: Herr Michael Tebbe "
   ]
  },
  {
   "cell_type": "markdown",
   "metadata": {},
   "source": [
    "### 1.1 Datensatz von Annotation laden"
   ]
  },
  {
   "cell_type": "code",
   "execution_count": null,
   "metadata": {},
   "outputs": [],
   "source": [
    "import json\n",
    "import import_ipynb\n",
    "import extract_hypernyms as EH\n",
    "# read file\n",
    "if __name__ == '__main__':\n",
    "    \n",
    "    #data loaded\n",
    "    with open('export200.json', 'r') as myfile:\n",
    "        data = myfile.read()\n",
    "    ideen_list   = json.loads(data)"
   ]
  },
  {
   "cell_type": "markdown",
   "metadata": {},
   "source": [
    "### 1.2 Ideen Wörterbuch (key = (nummerId , Id) , Value = Content)\n",
    " \n",
    " Alle 200 Ideen werden in der ideenDict mit entsprechen nummerID und Id gespeichert "
   ]
  },
  {
   "cell_type": "code",
   "execution_count": null,
   "metadata": {},
   "outputs": [],
   "source": [
    "ideenDict    = EH.get_dictionaryIdee(ideen_list)"
   ]
  },
  {
   "cell_type": "markdown",
   "metadata": {},
   "source": [
    "### 1.3 DictionaryTree: Beziehungen zwischen Hypernym\n",
    "Key   = ein Hypernym(Eltern Knoten)\n",
    "\n",
    "Value = List von Hypernyme (Kinder Knoten die als Direkthypernym der Eltern Knoten haben)\n",
    "\n",
    "i)  Verfügbare Funktionen\n",
    "\n",
    "    a) EH.build_tree(dictionaryTree) Zeigt der gesamte Baum\n",
    "\n",
    "    b) Ein Spezifisches Knoten mit  Kinder als unterbaum anzeigen lassen\n",
    "          EH.build_part_of_tree_(Tree,knoten) wobei knoten den form synset.pos.id hat \n",
    "          Beispiel: EH.build_part_of_tree(dictionaryTree, \"entity.n.01\")"
   ]
  },
  {
   "cell_type": "code",
   "execution_count": null,
   "metadata": {},
   "outputs": [],
   "source": [
    "synsetsList    = EH.get_synsetsList(ideen_list)   #key = Synset, Value = [list von ID]\n",
    "dictionaryTree = EH.analyse(synsetsList)"
   ]
  },
  {
   "cell_type": "markdown",
   "metadata": {},
   "source": [
    "### 1.4 SynsetsList,hypernymList, ideen_synset, ideen_hypernym Wörterbücher\n",
    "\n",
    "a) Verfügbare Funktionen:\n",
    "\n",
    "    i) EH.plot_balken:hypernym(hypernymList,prozent):\n",
    "    Balkendiagramm Darstellung: Anzahl von Ideen pro Hypernyme\n",
    "    Hypernyme mit Anzahl an Ideen weniger als \"prozent\"  werden in Others gruppiert.\n",
    "    Und \"Others\" wird als eine geordnete Liste von der kleinsten bis zur größten angezeigt.\n",
    "    Beispiel: EH.plot_balken_hypernym(hypernymList,20)\n",
    "    \n",
    "    ii) EH.plot_hypernyme_fenster(hypernymList,minimum,maximum)\n",
    "    Hypernym mit Anzahl an Ideen Zwischen minimum and maximum \n",
    "    Tabelle mit Anzahl an Ideen, Überschneidung und Anzahl an Hypernyme\n",
    "    Beispiel: EH.plot_hypernyme_fenster(hypernymList,26,40)\n",
    "    \n",
    "    iii) EH.plot_mapping_idee_Synstet(ideen_synset,prozent)\n",
    "     Balkendiagramm Darstellung: Anzahl von Synset pro Idee\n",
    "     IdeenId mit Anzahl an Synsets weniger als \"prozent\"  werden in Others gruppiert.\n",
    "     Und \"Others\" wird als eine geordnete Liste von der kleinsten bis zur größten angezeigt.\n",
    "     \n",
    "    iiii) EH.plot_mapping_idee_Hypernym(ideen_hypernym,prozent)\n",
    "        Balkendiagramm Darstellung: Anzahl an Hypernyme pro Idee\n",
    "        IdeenId mit Anzahl an Hypernyme  weniger als \"prozent\"  werden in Others gruppiert.\n",
    "        Und \"Others\" wird als eine geordnete Liste von der kleinsten bis zur größten angezeigt.\n",
    "        \n",
    "    "
   ]
  },
  {
   "cell_type": "code",
   "execution_count": null,
   "metadata": {},
   "outputs": [],
   "source": [
    "hypernymList      = EH.get_hypernymDict(synsetsList) #Key = hypernym ,     Value = [list von ID]\n",
    "ideen_synset      = EH.mapping_idee_to_synsets(ideen_list) #key = (nummerId,Id) Value = [Listsynsets]\n",
    "ideen_hypernym    = EH.mapping_idee_to_hypernym(ideen_synset) # key = (nummerId,Id)  Value = [Listhypernymen]\n",
    "print(\"Anzahl Synsets\", len(synsetsList.keys()))\n",
    "print(\"Anzahl Hypernym\", len(hypernymList.keys()))"
   ]
  },
  {
   "cell_type": "markdown",
   "metadata": {},
   "source": [
    "#### Frage 1: Welche Themenbereiche gibt es in dem Datensatz ?"
   ]
  },
  {
   "cell_type": "code",
   "execution_count": null,
   "metadata": {},
   "outputs": [],
   "source": [
    "EH.plot_hypernyme_fenster(hypernymList,5,7)"
   ]
  },
  {
   "cell_type": "markdown",
   "metadata": {},
   "source": [
    "59 ideas: application, technology, profession -> technology can be used to do a job\n",
    "rest maybe: tech can be used at home, not on the job (e.g. sports) "
   ]
  },
  {
   "cell_type": "code",
   "execution_count": null,
   "metadata": {},
   "outputs": [],
   "source": []
  },
  {
   "cell_type": "code",
   "execution_count": null,
   "metadata": {},
   "outputs": [],
   "source": [
    "#Antwort: \n",
    "#print(\"Synsets\", synsetsList.keys())\n",
    "#print(\"Hypernyms\", hypernymList.keys())\n",
    "EH.plot_balken_hypernym(hypernymList,10)\n",
    "\n"
   ]
  },
  {
   "cell_type": "markdown",
   "metadata": {},
   "source": [
    "EH.plot_balken_hypernym(hypernymList,5)\n",
    "Topics:\n",
    "bad person\n",
    "invesigation\n",
    "building\n",
    "container\n",
    "mammal....\n",
    "11 - 16 occurences\n",
    "\n",
    "EH.plot_balken_hypernym(hypernymList,10)\n",
    "Topics:\n",
    "residence\n",
    "home\n",
    "...\n",
    "- technology\n",
    "\n",
    "\n",
    "\n"
   ]
  },
  {
   "cell_type": "markdown",
   "metadata": {},
   "source": [
    "#### Frage 2: Finde unerwartete Ideen bzw. unerwartete Themenbereiche oder Outlier (5 Stück)"
   ]
  },
  {
   "cell_type": "code",
   "execution_count": null,
   "metadata": {},
   "outputs": [],
   "source": [
    "#Antwort:\n",
    "Livestock, Student"
   ]
  },
  {
   "cell_type": "markdown",
   "metadata": {},
   "source": [
    "### 1.5 Daten Reduktion: Pro Ideen genau 1 Synset\n",
    "    Synset die am Wenigstens in Datensatz vorkommt bzw. genau ein mal! \n",
    "    \n",
    "    a) verfügbare Funktionnen:\n",
    "    \n",
    "       i) EH.plot_occurence_synset(synsets_occurence,prozent)\n",
    "        Balkendiagramm Darstellung: Pro Synset wird die Anzahl an wiederholung in der Datensatz angezeigt.\n",
    "        Synsets mit Anzahl an Occurence weniger als \"prozent\"  werden in Others gruppiert.\n",
    "        Und \"Others\" wird als eine geordnete Liste von der kleinsten bis zur größten angezeigt. \n",
    "         \n",
    "       ii) Alle in 1.3 genanten Tree Funktionnen"
   ]
  },
  {
   "cell_type": "code",
   "execution_count": null,
   "metadata": {},
   "outputs": [],
   "source": [
    "synsets_occurence        = EH.occurence_of_synset(ideen_synset) #key = Synset, Value = Anzahl von vorkommen\n",
    "ideen_synsetList_clearly = EH.ideen_synsetDict_clearly(ideen_synset, synsets_occurence)#key = (nummerId,Id), Value = [ein Synset]\n",
    "synsetList_clearly       = EH.synsetDict_clearly(ideen_synsetList_clearly, synsetsList )#key = Synset, Value = [list von ID] \n",
    "dictionaryTree_clearly   = EH.analyse(synsetList_clearly)\n"
   ]
  },
  {
   "cell_type": "markdown",
   "metadata": {},
   "source": [
    "#### Frage 3: Mit dem neuen Daten was sind Die Themenbereiche?"
   ]
  },
  {
   "cell_type": "code",
   "execution_count": null,
   "metadata": {},
   "outputs": [],
   "source": [
    "#Antwort\n",
    "\n",
    "hypernymList_clearly      = EH.get_hypernymDict(synsetList_clearly)\n",
    "EH.plot_balken_hypernym(hypernymList_clearly,1)\n",
    "\n",
    "#filter through hypernyms and choose tzhe ones that might be topics"
   ]
  },
  {
   "cell_type": "markdown",
   "metadata": {},
   "source": [
    "### 1.6 Abstraktionsgrad eine Idee\n",
    "Verfügbare Funktionnen:\n",
    "\n",
    "    i) EH.Top_Abstract_and_concret(Abstractionsgrad,ideenDict,top)\n",
    "      gibt ein Tupel mit top Abstrakte und Konkrete Ideen\n",
    "      beispiel: listTop2_Abstrakt,listTop2_KonKret = EH.Top_Abstract_and_concret(Abstractionsgrad,ideenDict,2)"
   ]
  },
  {
   "cell_type": "code",
   "execution_count": null,
   "metadata": {},
   "outputs": [],
   "source": [
    "Abstractionsgrad = EH.Abstractionsgradfunc(ideen_synset)  #key = (numId,Id) value = distance     "
   ]
  },
  {
   "cell_type": "markdown",
   "metadata": {},
   "source": [
    "#### Frage 4: Was sind die abstraktesten Ideen in dem Datensatz? Was sind die konkretesten Ideen in dem Datensatz? (5 Stück)"
   ]
  },
  {
   "cell_type": "code",
   "execution_count": null,
   "metadata": {},
   "outputs": [],
   "source": [
    "#Antwort\n",
    "listTop5_Abstrakt,listTop5_KonKret = EH.Top_Abstract_and_concret(Abstractionsgrad,ideenDict,5)\n",
    "\n",
    "print('abstract:', listTop5_Abstrakt)\n",
    "print()\n",
    "print('konkret: ', listTop5_KonKret)"
   ]
  },
  {
   "cell_type": "markdown",
   "metadata": {},
   "source": [
    "#### Frage 5: Welche wichtigen Informationen über die Daten können wir mit Hilfe der bereitgestellten Wörterbücher noch erhalten?"
   ]
  },
  {
   "cell_type": "markdown",
   "metadata": {},
   "source": [
    "#Antwort \n",
    "find rare ideas by looking at overlaps between synsets. Hypothesis: rare ideas produce 'strange' overlaps \n",
    "\n",
    "synsets per idea\n",
    "k\n",
    "tree of one idea\n",
    "\n",
    "compare two trees\n",
    "\n",
    "use corpus-based methods to filter out uninformative topics\n",
    "\n",
    "    \n",
    "    "
   ]
  }
 ],
 "metadata": {
  "kernelspec": {
   "display_name": "Python 3",
   "language": "python",
   "name": "python3"
  },
  "language_info": {
   "codemirror_mode": {
    "name": "ipython",
    "version": 3
   },
   "file_extension": ".py",
   "mimetype": "text/x-python",
   "name": "python",
   "nbconvert_exporter": "python",
   "pygments_lexer": "ipython3",
   "version": "3.6.9"
  }
 },
 "nbformat": 4,
 "nbformat_minor": 2
}
