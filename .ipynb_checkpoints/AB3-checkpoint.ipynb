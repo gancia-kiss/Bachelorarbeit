{
 "cells": [
  {
   "cell_type": "markdown",
   "metadata": {},
   "source": [
    "# Mustererkennung – Aufgabenblatt 3\n",
    "\n",
    "Bei Fragen: [florian.hartmann@fu-berlin.de](mailto:florian.hartmann@fu-berlin.de?subject=[Mustererkennung]) – E-Mail-Titel der mit [ME] oder [Mustererkennung] anfängt"
   ]
  },
  {
   "cell_type": "code",
   "execution_count": 1,
   "metadata": {
    "ExecuteTime": {
     "end_time": "2017-11-11T20:54:37.805955Z",
     "start_time": "2017-11-11T20:54:37.531852Z"
    },
    "collapsed": true
   },
   "outputs": [],
   "source": [
    "import pandas as pd\n",
    "import numpy as np"
   ]
  },
  {
   "cell_type": "code",
   "execution_count": 2,
   "metadata": {
    "ExecuteTime": {
     "end_time": "2017-11-11T20:54:37.810663Z",
     "start_time": "2017-11-11T20:54:37.808046Z"
    },
    "collapsed": true
   },
   "outputs": [],
   "source": [
    "digits = range(10)\n",
    "base_path = \"data/digits/\""
   ]
  },
  {
   "cell_type": "markdown",
   "metadata": {},
   "source": [
    "## Trainingsdaten laden"
   ]
  },
  {
   "cell_type": "code",
   "execution_count": 3,
   "metadata": {
    "ExecuteTime": {
     "end_time": "2017-11-11T20:54:38.226552Z",
     "start_time": "2017-11-11T20:54:37.812724Z"
    },
    "collapsed": true
   },
   "outputs": [],
   "source": [
    "Xs = []\n",
    "y = []\n",
    "\n",
    "for digit in digits:\n",
    "    Xi = pd.read_csv(\"%s/train.%d.csv\" % (base_path, digit), header=None)\n",
    "    Xs.append(Xi.as_matrix())\n",
    "    y += [digit] * len(Xi)\n",
    "    \n",
    "X = np.concatenate(Xs)\n",
    "y = np.array(y)"
   ]
  },
  {
   "cell_type": "markdown",
   "metadata": {
    "ExecuteTime": {
     "end_time": "2017-11-03T19:01:23.469513Z",
     "start_time": "2017-11-03T19:01:23.466675Z"
    }
   },
   "source": [
    "## Testdaten laden"
   ]
  },
  {
   "cell_type": "code",
   "execution_count": 4,
   "metadata": {
    "ExecuteTime": {
     "end_time": "2017-11-11T20:54:38.321632Z",
     "start_time": "2017-11-11T20:54:38.228945Z"
    },
    "collapsed": true
   },
   "outputs": [],
   "source": [
    "test_data = pd.read_csv(base_path + \"test.ssv\", delimiter=\" \", header=None).as_matrix()\n",
    "X_test = test_data[:, 1:]\n",
    "y_test = test_data[:, 0]"
   ]
  },
  {
   "cell_type": "markdown",
   "metadata": {},
   "source": [
    "## Allgemeine Klasse für Klassifizierer"
   ]
  },
  {
   "cell_type": "code",
   "execution_count": 5,
   "metadata": {
    "ExecuteTime": {
     "end_time": "2017-11-11T20:54:38.331704Z",
     "start_time": "2017-11-11T20:54:38.323532Z"
    },
    "collapsed": true
   },
   "outputs": [],
   "source": [
    "class Classifier:\n",
    "    def score(self, X, y):\n",
    "        predictions = self.predict(X)\n",
    "        return np.mean(predictions == y)\n",
    "    \n",
    "    def confusion_matrix(self, X, y):\n",
    "        size = len(set(y))\n",
    "        predicted = self.predict(X)\n",
    "        \n",
    "        results = np.zeros((size, size), dtype=np.int32)\n",
    "\n",
    "        for pi, yi in zip(predicted, y):\n",
    "            results[int(pi)][int(yi)] += 1\n",
    "\n",
    "        return results"
   ]
  },
  {
   "cell_type": "markdown",
   "metadata": {},
   "source": [
    "## Datensatz splitten"
   ]
  },
  {
   "cell_type": "code",
   "execution_count": 6,
   "metadata": {
    "ExecuteTime": {
     "end_time": "2017-11-11T20:54:38.338665Z",
     "start_time": "2017-11-11T20:54:38.334312Z"
    },
    "collapsed": true
   },
   "outputs": [],
   "source": [
    "def join_classes(X_pos, X_neg):\n",
    "    X_joined = np.concatenate((X_pos, X_neg))\n",
    "    y_joined = np.array([1] * len(X_pos) + [-1] * len(X_neg))\n",
    "    return X_joined, y_joined"
   ]
  },
  {
   "cell_type": "code",
   "execution_count": 7,
   "metadata": {
    "ExecuteTime": {
     "end_time": "2017-11-11T20:54:38.345318Z",
     "start_time": "2017-11-11T20:54:38.341109Z"
    },
    "collapsed": true
   },
   "outputs": [],
   "source": [
    "def split_train_data(train_data, positive_class, negative_class):\n",
    "    X_pos = train_data[positive_class]\n",
    "    X_neg = train_data[negative_class]\n",
    "    return join_classes(X_pos, X_neg)"
   ]
  },
  {
   "cell_type": "code",
   "execution_count": 8,
   "metadata": {
    "ExecuteTime": {
     "end_time": "2017-11-11T20:54:38.351775Z",
     "start_time": "2017-11-11T20:54:38.347522Z"
    },
    "collapsed": true
   },
   "outputs": [],
   "source": [
    "def split_test_data(test_data, positive_class, negative_class):\n",
    "    X_pos = test_data[test_data[:, 0] == positive_class, 1:]\n",
    "    X_neg = test_data[test_data[:, 0] == negative_class, 1:]\n",
    "    return join_classes(X_pos, X_neg)"
   ]
  },
  {
   "cell_type": "code",
   "execution_count": 9,
   "metadata": {
    "ExecuteTime": {
     "end_time": "2017-11-11T20:54:38.358275Z",
     "start_time": "2017-11-11T20:54:38.353900Z"
    },
    "collapsed": true
   },
   "outputs": [],
   "source": [
    "def get_subset(X, y, labels):\n",
    "    indices = reduce(np.logical_or, map(lambda l: y == l, labels))\n",
    "    return X[indices], y[indices]"
   ]
  },
  {
   "cell_type": "markdown",
   "metadata": {},
   "source": [
    "## Gauß-Klassifizierer\n",
    "\n",
    "Klassifizieren: Für jede Klasse den Durchschnittsvektor und die Kovarianzmatrix berechnen\n",
    "\n",
    "Vorhersagen: Für jede Klasse die Wahrscheinlichkeit berechnen (mittels vorher berechneten Durchschnittsvektor / Kovarianzmatrix) und dann die Klasse mit höchster Wahrscheinlichkeit vorhersagen"
   ]
  },
  {
   "cell_type": "code",
   "execution_count": 10,
   "metadata": {
    "ExecuteTime": {
     "end_time": "2017-11-11T20:54:38.363755Z",
     "start_time": "2017-11-11T20:54:38.360772Z"
    },
    "collapsed": true
   },
   "outputs": [],
   "source": [
    "from numpy import sqrt, pi, e\n",
    "from numpy.linalg import pinv, det, slogdet"
   ]
  },
  {
   "cell_type": "code",
   "execution_count": 11,
   "metadata": {
    "ExecuteTime": {
     "end_time": "2017-11-11T20:54:38.370487Z",
     "start_time": "2017-11-11T20:54:38.366144Z"
    },
    "collapsed": true
   },
   "outputs": [],
   "source": [
    "def covariance_matrix(X, mu):\n",
    "    num_samples, _ = X.shape\n",
    "    X_normalized = X - mu\n",
    "    return X_normalized.T.dot(X_normalized) / num_samples"
   ]
  },
  {
   "cell_type": "code",
   "execution_count": 12,
   "metadata": {
    "ExecuteTime": {
     "end_time": "2017-11-11T20:54:38.379178Z",
     "start_time": "2017-11-11T20:54:38.372648Z"
    },
    "collapsed": true
   },
   "outputs": [],
   "source": [
    "def normal_distribution_pdf(X, sigma, mu):\n",
    "    X_normalised = X - mu\n",
    "    exponent = -0.5 * np.diag(X_normalised.dot(pinv(sigma)).dot(X_normalised.T))\n",
    "    \n",
    "    dim = X.shape[1]\n",
    "    eps = 1e-15 # To avoid division by zero\n",
    "    normalization_term = 1. / sqrt((2 * pi)**dim * det(sigma) + eps)\n",
    "    \n",
    "    return normalization_term * e**exponent"
   ]
  },
  {
   "cell_type": "code",
   "execution_count": 13,
   "metadata": {
    "ExecuteTime": {
     "end_time": "2017-11-11T20:54:38.396977Z",
     "start_time": "2017-11-11T20:54:38.381571Z"
    },
    "collapsed": true
   },
   "outputs": [],
   "source": [
    "class GaussianClassifier(Classifier):\n",
    "    def fit(self, X, y):\n",
    "        self.labels = np.unique(y)\n",
    "        Xs = [X[y == label] for label in self.labels]\n",
    "        \n",
    "        self.means = []\n",
    "        self.covariances = []\n",
    "        \n",
    "        for X in Xs:\n",
    "            mean = np.mean(X, axis=0)\n",
    "            self.means.append(mean)\n",
    "            self.covariances.append(covariance_matrix(X, mean))\n",
    "        \n",
    "    def predict(self, X):\n",
    "        results = np.array([None] * len(X))\n",
    "        largest_probs = np.array([-np.inf] * len(X))\n",
    "        \n",
    "        for label, mean, covariance in zip(self.labels, self.means, self.covariances):\n",
    "            probs = normal_distribution_pdf(X, covariance, mean)\n",
    "            results[probs > largest_probs] = label\n",
    "            largest_probs = np.maximum(largest_probs, probs)\n",
    "        \n",
    "        return results"
   ]
  },
  {
   "cell_type": "markdown",
   "metadata": {},
   "source": [
    "## Auf dem Datensatz angewandt"
   ]
  },
  {
   "cell_type": "markdown",
   "metadata": {},
   "source": [
    "### Binäre Klassifizierung"
   ]
  },
  {
   "cell_type": "code",
   "execution_count": 14,
   "metadata": {
    "ExecuteTime": {
     "end_time": "2017-11-11T20:54:38.402239Z",
     "start_time": "2017-11-11T20:54:38.399610Z"
    },
    "collapsed": true
   },
   "outputs": [],
   "source": [
    "digits = range(10)"
   ]
  },
  {
   "cell_type": "code",
   "execution_count": 15,
   "metadata": {
    "ExecuteTime": {
     "end_time": "2017-11-11T20:54:40.901103Z",
     "start_time": "2017-11-11T20:54:38.404734Z"
    },
    "scrolled": false
   },
   "outputs": [
    {
     "name": "stdout",
     "output_type": "stream",
     "text": [
      "0 vs 1 => 0.951846\n",
      "0 vs 2 => 0.946140\n",
      "0 vs 3 => 0.948571\n",
      "0 vs 4 => 0.957066\n",
      "0 vs 5 => 0.951830\n",
      "0 vs 6 => 0.943289\n",
      "0 vs 7 => 0.952569\n",
      "0 vs 8 => 0.948571\n",
      "0 vs 9 => 0.958955\n",
      "1 vs 2 => 0.943723\n"
     ]
    },
    {
     "name": "stderr",
     "output_type": "stream",
     "text": [
      "/usr/local/lib/python2.7/site-packages/ipykernel_launcher.py:9: RuntimeWarning: overflow encountered in power\n",
      "  if __name__ == '__main__':\n"
     ]
    },
    {
     "name": "stdout",
     "output_type": "stream",
     "text": [
      "1 vs 3 => 0.953488\n",
      "1 vs 4 => 0.909483\n",
      "1 vs 5 => 0.938679\n",
      "1 vs 6 => 0.951613\n",
      "1 vs 7 => 0.946472\n",
      "1 vs 8 => 0.900000\n",
      "1 vs 9 => 0.945578\n",
      "2 vs 3 => 0.947802\n",
      "2 vs 4 => 0.952261\n",
      "2 vs 5 => 0.960894\n",
      "2 vs 6 => 0.910326\n",
      "2 vs 7 => 0.947826\n",
      "2 vs 8 => 0.917582\n",
      "2 vs 9 => 0.957333\n",
      "3 vs 4 => 0.948087\n",
      "3 vs 5 => 0.914110\n",
      "3 vs 6 => 0.928571\n",
      "3 vs 7 => 0.920128\n",
      "3 vs 8 => 0.885542\n",
      "3 vs 9 => 0.927114\n",
      "4 vs 5 => 0.936111\n",
      "4 vs 6 => 0.929730\n",
      "4 vs 7 => 0.896254\n",
      "4 vs 8 => 0.934426\n",
      "4 vs 9 => 0.899204\n",
      "5 vs 6 => 0.903030\n",
      "5 vs 7 => 0.951140\n",
      "5 vs 8 => 0.938650\n",
      "5 vs 9 => 0.958457\n",
      "6 vs 7 => 0.924290\n",
      "6 vs 8 => 0.916667\n",
      "6 vs 9 => 0.930836\n",
      "7 vs 8 => 0.916933\n",
      "7 vs 9 => 0.919753\n",
      "8 vs 9 => 0.845481\n",
      "Durchschnittlich: 0.932587\n"
     ]
    }
   ],
   "source": [
    "accuracies = []\n",
    "\n",
    "for i in range(len(digits)):\n",
    "    for j in range(i + 1, len(digits)):\n",
    "        positive_class = digits[i]\n",
    "        negative_class = digits[j]\n",
    "        \n",
    "        X_train_sub, y_train_sub = split_train_data(Xs, positive_class, negative_class)\n",
    "        X_test_sub, y_test_sub = split_test_data(test_data, positive_class, negative_class)\n",
    "        \n",
    "        clf = GaussianClassifier()\n",
    "        clf.fit(X_train_sub, y_train_sub)\n",
    "\n",
    "        accuracy = clf.score(X_test_sub, y_test_sub)\n",
    "        accuracies.append(accuracy)\n",
    "        \n",
    "        print \"%d vs %d => %.6f\" % (positive_class, negative_class, accuracy)\n",
    "        \n",
    "print \"Durchschnittlich: %.6f\" % np.mean(accuracies)"
   ]
  },
  {
   "cell_type": "markdown",
   "metadata": {},
   "source": [
    "### Mehrere Klassen"
   ]
  },
  {
   "cell_type": "markdown",
   "metadata": {},
   "source": [
    "Alle 10:"
   ]
  },
  {
   "cell_type": "code",
   "execution_count": 16,
   "metadata": {
    "ExecuteTime": {
     "end_time": "2017-11-11T20:54:41.636972Z",
     "start_time": "2017-11-11T20:54:40.902779Z"
    }
   },
   "outputs": [
    {
     "name": "stderr",
     "output_type": "stream",
     "text": [
      "/usr/local/lib/python2.7/site-packages/ipykernel_launcher.py:9: RuntimeWarning: overflow encountered in power\n",
      "  if __name__ == '__main__':\n"
     ]
    },
    {
     "data": {
      "text/plain": [
       "0.84055804683607371"
      ]
     },
     "execution_count": 16,
     "metadata": {},
     "output_type": "execute_result"
    }
   ],
   "source": [
    "clf = GaussianClassifier()\n",
    "clf.fit(X, y)\n",
    "clf.score(X_test, y_test)"
   ]
  },
  {
   "cell_type": "markdown",
   "metadata": {},
   "source": [
    "3, 5, 7, 8:"
   ]
  },
  {
   "cell_type": "code",
   "execution_count": 17,
   "metadata": {
    "ExecuteTime": {
     "end_time": "2017-11-11T20:54:41.642349Z",
     "start_time": "2017-11-11T20:54:41.639256Z"
    },
    "collapsed": true
   },
   "outputs": [],
   "source": [
    "labels = [3,5,7,8]"
   ]
  },
  {
   "cell_type": "code",
   "execution_count": 18,
   "metadata": {
    "ExecuteTime": {
     "end_time": "2017-11-11T20:54:41.654809Z",
     "start_time": "2017-11-11T20:54:41.644565Z"
    },
    "collapsed": true
   },
   "outputs": [],
   "source": [
    "X_sub, y_sub = get_subset(X, y, labels)\n",
    "X_test_sub, y_test_sub = get_subset(X_test, y_test, labels)"
   ]
  },
  {
   "cell_type": "code",
   "execution_count": 19,
   "metadata": {
    "ExecuteTime": {
     "end_time": "2017-11-11T20:54:41.766301Z",
     "start_time": "2017-11-11T20:54:41.657145Z"
    }
   },
   "outputs": [
    {
     "data": {
      "text/plain": [
       "0.83881064162754304"
      ]
     },
     "execution_count": 19,
     "metadata": {},
     "output_type": "execute_result"
    }
   ],
   "source": [
    "clf = GaussianClassifier()\n",
    "clf.fit(X_sub, y_sub)\n",
    "clf.score(X_test_sub, y_test_sub)"
   ]
  }
 ],
 "metadata": {
  "kernelspec": {
   "display_name": "Python 3",
   "language": "python",
   "name": "python3"
  },
  "language_info": {
   "codemirror_mode": {
    "name": "ipython",
    "version": 3
   },
   "file_extension": ".py",
   "mimetype": "text/x-python",
   "name": "python",
   "nbconvert_exporter": "python",
   "pygments_lexer": "ipython3",
   "version": "3.6.8"
  },
  "toc": {
   "nav_menu": {},
   "number_sections": false,
   "sideBar": true,
   "skip_h1_title": false,
   "toc_cell": false,
   "toc_position": {},
   "toc_section_display": "block",
   "toc_window_display": true
  }
 },
 "nbformat": 4,
 "nbformat_minor": 1
}
