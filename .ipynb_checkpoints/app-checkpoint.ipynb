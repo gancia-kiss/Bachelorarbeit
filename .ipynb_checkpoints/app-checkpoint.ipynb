{
 "cells": [
  {
   "cell_type": "code",
   "execution_count": 2,
   "metadata": {},
   "outputs": [],
   "source": [
    "import sys\n",
    "\n",
    "# for creating the mapper code\n",
    "from sqlalchemy import Column, ForeignKey, Integer, String\n",
    "from sqlalchemy.types import UserDefinedType\n",
    "\n",
    "\n",
    "\n",
    "class Description(UserDefinedType):\n",
    "    __tablename__:'description'\n",
    "    synset_id     = Column(Integer, primary_key=True)\n",
    "    resource      = Column(String, nullable=False)\n",
    "    label         = Column(String, nullable=False)\n",
    "    description   = Column(String, nullable=False)\n",
    "        \n",
    "    @property\n",
    "    def serialize(self):\n",
    "        return {\n",
    "        'resource'   : self.resource,\n",
    "        'label'      : self.label,\n",
    "        'description': self.description,\n",
    "        'synset_id'  : self.synset_id,\n",
    "     }\n",
    "        "
   ]
  },
  {
   "cell_type": "code",
   "execution_count": 3,
   "metadata": {},
   "outputs": [],
   "source": [
    "\n",
    "class Annotation_candidates():\n",
    "    __tablename__ :'annotation_candidate'\n",
    "    id     = Column(Integer, primary_key=True)\n",
    "    offset = Column(Integer, nullable=False)\n",
    "    text   = Column(String, nullable=False)\n",
    "    ressources_candidates = Column(Description)\n",
    "    \n",
    "    @property\n",
    "    def serialize(self):\n",
    "        return {\n",
    "        'text'                 : self.text,\n",
    "        'offset'               : self.offset,\n",
    "        'resources_candidates' : self.resources_candidates,\n",
    "        'id'                   : self.id,\n",
    "     }"
   ]
  },
  {
   "cell_type": "code",
   "execution_count": null,
   "metadata": {},
   "outputs": [
    {
     "name": "stderr",
     "output_type": "stream",
     "text": [
      " * Running on http://localhost:5000/ (Press CTRL+C to quit)\n",
      "127.0.0.1 - - [21/Oct/2019 13:19:16] \"GET / HTTP/1.1\" 200 -\n",
      "127.0.0.1 - - [21/Oct/2019 13:19:31] \"GET /favicon.ico HTTP/1.1\" 404 -\n",
      "127.0.0.1 - - [21/Oct/2019 13:20:06] \"GET /annotapi HTTP/1.1\" 404 -\n",
      "127.0.0.1 - - [21/Oct/2019 13:20:23] \"GET /annotApi HTTP/1.1\" 200 -\n"
     ]
    }
   ],
   "source": [
    "from flask import Flask\n",
    "from flask import jsonify\n",
    "app = Flask(__name__)\n",
    "\n",
    "#api funktionen\n",
    "def get_annotationCandidate():\n",
    "    annotation_candidate = session.query(Annotation_candidate).all()\n",
    "    return jsonify(annotation_candidate=[a.serialize for a in annotation_candidate])\n",
    "\n",
    "\n",
    "def get_annotationCandidate(annot_id):\n",
    "    annotation_candidate = session.query(Annotation_candidate).filter_by(id=annot_id).one()\n",
    "    return jsonify(annotation_candidate=annotation_candidate.serialize)\n",
    "\n",
    "@app.route('/')\n",
    "def index():\n",
    "  return 'Server Works done!'\n",
    "  \n",
    "@app.route('/annotApi')\n",
    "def say_hello():\n",
    "  return 'Hello from Server'\n",
    "\n",
    "@app.route('/')\n",
    "@app.route('/annotApi', methods=['GET'])\n",
    "def annotsFunction():\n",
    "    if request.method == 'GET':\n",
    "        return get_annotationCandidate()\n",
    "    \n",
    "@app.route('/annotApi/<int:id>', methods=['GET'])\n",
    "def annotsFunctionId():\n",
    "    if request.method == 'GET':\n",
    "        return get_annotationCandidate(annot_id)\n",
    "   \n",
    "\n",
    "if __name__ == '__main__':\n",
    "   # app.debug = True\n",
    "    from werkzeug.serving import run_simple\n",
    "    run_simple('localhost', 5000, app)\n",
    "\n",
    "\n"
   ]
  },
  {
   "cell_type": "code",
   "execution_count": null,
   "metadata": {},
   "outputs": [],
   "source": []
  }
 ],
 "metadata": {
  "kernelspec": {
   "display_name": "Python 3",
   "language": "python",
   "name": "python3"
  },
  "language_info": {
   "codemirror_mode": {
    "name": "ipython",
    "version": 3
   },
   "file_extension": ".py",
   "mimetype": "text/x-python",
   "name": "python",
   "nbconvert_exporter": "python",
   "pygments_lexer": "ipython3",
   "version": "3.6.8"
  }
 },
 "nbformat": 4,
 "nbformat_minor": 2
}
