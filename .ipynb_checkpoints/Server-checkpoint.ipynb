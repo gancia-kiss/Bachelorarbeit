{
 "cells": [
  {
   "cell_type": "code",
   "execution_count": 58,
   "metadata": {},
   "outputs": [],
   "source": [
    "import nltk\n",
    "from nltk.corpus import stopwords\n",
    "from nltk.tokenize import word_tokenize \n",
    "#nltk.download('wordnet')\n",
    "from nltk.corpus import wordnet #wornet loaded\n",
    "import re\n",
    "\n",
    "#nltk.download('stopwords')\n",
    "#nltk.download('punkt')\n",
    "def stop_words_filtering(file):\n",
    "    reg_exp = r\"[a-zA-Z0-9]+\"\n",
    "    #stop_words = []\n",
    "    stop_words = set(stopwords.words('english')) #stopwords just for englisch text\n",
    "    fobj = open(file, \"r\")\n",
    "    word_tokens= []\n",
    "    b = []\n",
    "    a = re.compile(reg_exp)\n",
    "    for line in fobj:\n",
    "#example = \"Pet food for shoes and fabric\"    \n",
    "        \n",
    "        b = b + a.findall(line)\n",
    "    \n",
    "       # word_tokens = word_tokens + word_tokenize(line) \n",
    "        \n",
    "        filtered_sentence =  [w for w in b if not w in stop_words] \n",
    "  \n",
    "        filtered_sentence = [] \n",
    "  \n",
    "        for w in b: #just filtern stopword in a text\n",
    "            if w not in stop_words: \n",
    "                filtered_sentence.append(w) \n",
    "    fobj.close()            \n",
    "    return filtered_sentence \n",
    "    "
   ]
  },
  {
   "cell_type": "code",
   "execution_count": 51,
   "metadata": {
    "scrolled": false
   },
   "outputs": [
    {
     "data": {
      "text/plain": [
       "['Pet', 'food', 'shoes', 'fabric', 'Pet', 'food', 'shoes', 'fabric']"
      ]
     },
     "execution_count": 51,
     "metadata": {},
     "output_type": "execute_result"
    }
   ],
   "source": [
    "stop_words_filtering(\"test.txt\")"
   ]
  },
  {
   "cell_type": "code",
   "execution_count": 49,
   "metadata": {},
   "outputs": [],
   "source": [
    "def get_synsets(w):\n",
    "    syns = wordnet.synsets(w)\n",
    "    return syns\n",
    "\n",
    "def get_definitions(syns):\n",
    "    return syns.definition()\n",
    "\n",
    "def get_label(syns):\n",
    "    return syns.lemmas()[1].name()\n",
    "\n",
    "def get_source(syns):\n",
    "    return syns.lexname()"
   ]
  },
  {
   "cell_type": "code",
   "execution_count": 48,
   "metadata": {},
   "outputs": [
    {
     "name": "stdout",
     "output_type": "stream",
     "text": [
      "n\n",
      "n\n",
      "n\n"
     ]
    }
   ],
   "source": [
    "#def get_source(w):\n",
    "#b = get_description(\"food\")\n",
    "for ss in b :\n",
    "    ssid = str(ss.offset).zfill(8) + \"-\" + ss.pos()\n",
    "    print(ss.pos())\n",
    "    "
   ]
  },
  {
   "cell_type": "code",
   "execution_count": 43,
   "metadata": {},
   "outputs": [
    {
     "name": "stdout",
     "output_type": "stream",
     "text": [
      "defaultdict(<class 'list'>, {})\n"
     ]
    }
   ],
   "source": [
    "from collections import defaultdict\n",
    "sytodo = defaultdict(list)\n",
    "#ssid = str(ss.o)\n",
    "print(sytodo)\n"
   ]
  }
 ],
 "metadata": {
  "kernelspec": {
   "display_name": "Python 3",
   "language": "python",
   "name": "python3"
  },
  "language_info": {
   "codemirror_mode": {
    "name": "ipython",
    "version": 3
   },
   "file_extension": ".py",
   "mimetype": "text/x-python",
   "name": "python",
   "nbconvert_exporter": "python",
   "pygments_lexer": "ipython3",
   "version": "3.6.8"
  }
 },
 "nbformat": 4,
 "nbformat_minor": 2
}
