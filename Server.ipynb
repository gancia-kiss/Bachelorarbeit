{
 "cells": [
  {
   "cell_type": "code",
   "execution_count": 1,
   "metadata": {},
   "outputs": [],
   "source": [
    "import nltk\n",
    "from nltk.corpus import stopwords\n",
    "from nltk.tokenize import word_tokenize \n",
    "#nltk.download('wordnet')\n",
    "from nltk.corpus import wordnet #wornet loaded\n",
    "import re\n",
    "\n",
    "#nltk.download('stopwords')\n",
    "#nltk.download('punkt')\n",
    "def stop_words_filtering(file):\n",
    "    reg_exp = r\"[a-zA-Z0-9]+\"\n",
    "    #stop_words = []\n",
    "    stop_words = set(stopwords.words('english')) #stopwords just for englisch text\n",
    "    fobj = open(file, \"r\")\n",
    "    word_tokens= []\n",
    "    b = []\n",
    "    a = re.compile(reg_exp)\n",
    "    for line in fobj:\n",
    "#example = \"Pet food for shoes and fabric\"    \n",
    "        \n",
    "        b = b + a.findall(line)\n",
    "    \n",
    "       # word_tokens = word_tokens + word_tokenize(line) \n",
    "        \n",
    "        filtered_sentence =  [w for w in b if not w in stop_words] \n",
    "  \n",
    "        filtered_sentence = [] \n",
    "  \n",
    "        for w in b: #just filtern stopword in a text\n",
    "            if w not in stop_words: \n",
    "                filtered_sentence.append(w) \n",
    "    fobj.close()            \n",
    "    return filtered_sentence \n",
    "    "
   ]
  },
  {
   "cell_type": "code",
   "execution_count": 2,
   "metadata": {
    "scrolled": false
   },
   "outputs": [
    {
     "data": {
      "text/plain": [
       "['Pet', 'food', 'shoes', 'fabric']"
      ]
     },
     "execution_count": 2,
     "metadata": {},
     "output_type": "execute_result"
    }
   ],
   "source": [
    "stop_words_filtering(\"test.txt\")"
   ]
  },
  {
   "cell_type": "code",
   "execution_count": 3,
   "metadata": {},
   "outputs": [],
   "source": [
    "def get_synsets(w):\n",
    "    syns = wordnet.synsets(w)\n",
    "    return syns\n",
    "\n",
    "def get_definitions(syns):\n",
    "    return syns.definition()\n",
    "\n",
    "def get_label(syns):\n",
    "    return syns.lemmas()[1].name()\n",
    "\n",
    "def get_source(syns):\n",
    "    return syns.lexname()"
   ]
  },
  {
   "cell_type": "code",
   "execution_count": 20,
   "metadata": {
    "scrolled": true
   },
   "outputs": [
    {
     "data": {
      "text/plain": [
       "'a movie with images having three dimensional form or appearance'"
      ]
     },
     "execution_count": 20,
     "metadata": {},
     "output_type": "execute_result"
    }
   ],
   "source": [
    "a = get_synsets(\"3D\")\n",
    "get_definitions(a[0])"
   ]
  },
  {
   "cell_type": "code",
   "execution_count": 5,
   "metadata": {},
   "outputs": [],
   "source": [
    "from collections import defaultdict\n",
    "#sytodo = defaultdict(list)\n",
    "#ssid = str(ss.o)\n",
    "#print(sytodo)\n"
   ]
  },
  {
   "cell_type": "code",
   "execution_count": 29,
   "metadata": {},
   "outputs": [],
   "source": [
    "def get_hypernym(syns):\n",
    "    return wordnet.synset(syns).hypernym_paths() #all Hypernym extract"
   ]
  },
  {
   "cell_type": "code",
   "execution_count": 32,
   "metadata": {},
   "outputs": [
    {
     "data": {
      "text/plain": [
       "[[Synset('entity.n.01'),\n",
       "  Synset('physical_entity.n.01'),\n",
       "  Synset('object.n.01'),\n",
       "  Synset('whole.n.02'),\n",
       "  Synset('living_thing.n.01'),\n",
       "  Synset('organism.n.01'),\n",
       "  Synset('animal.n.01'),\n",
       "  Synset('pet.n.01')]]"
      ]
     },
     "execution_count": 32,
     "metadata": {},
     "output_type": "execute_result"
    }
   ],
   "source": [
    "from itertools import chain\n",
    "a = get_synsets(\"pet\")[0].name()\n",
    "get_hypernym(a)\n",
    "#noun_lemmas_in_wordnet = set(chain(*[ss.lemma_names() for ss in wordnet.all_synsets(pos='n')]))"
   ]
  },
  {
   "cell_type": "code",
   "execution_count": 33,
   "metadata": {},
   "outputs": [
    {
     "data": {
      "text/plain": [
       "1318894"
      ]
     },
     "execution_count": 33,
     "metadata": {},
     "output_type": "execute_result"
    }
   ],
   "source": [
    "#wordnet.all_synsets()\n",
    "(get_synsets(\"pet\")[0]).offset()"
   ]
  },
  {
   "cell_type": "code",
   "execution_count": null,
   "metadata": {},
   "outputs": [],
   "source": [
    "#https://swl.htwsaar.de/lehre/ws17/ds/slides/2017-vl-ds-kap4-2-clustering.pdf\n",
    "#  HierarchischesagglomeratiesClustering mitComplete-Linkage\n",
    "#clusters =linkage(X_normalized, method='complete', metric='euclidean')\n",
    "# Dendrogrammausgeben\n",
    "#dendrogram=dendrogram(clusters, labels=labels)\n",
    "#plt.tight_layout()\n",
    "#plt.ylabel('Euclidean distance')\n",
    "#plt.show()"
   ]
  },
  {
   "cell_type": "code",
   "execution_count": 26,
   "metadata": {},
   "outputs": [
    {
     "name": "stdout",
     "output_type": "stream",
     "text": [
      "2 [2, 3]\n",
      "[1]\n",
      "1\n",
      "3 [2, 3]\n",
      "[1]\n",
      "1\n",
      "3 [3, 4]\n",
      "[2]\n",
      "2\n",
      "4 [3, 4]\n",
      "[2]\n",
      "2\n",
      "4 [6, 0, 4]\n",
      "[3]\n",
      "3\n",
      "1 [1, 9]\n",
      "[4]\n",
      "4\n"
     ]
    }
   ],
   "source": [
    "d = {1:[2,3], 2:[3,4], 3:[6,0,4], 4:[1,9]}\n",
    "#prüft ob ein key als Value vorhanden ist und gib der schlüssel von dieser zurück.\n",
    "for a in (i for i in d.values()):\n",
    "    for key in d.keys():\n",
    "        if key in a:\n",
    "            print(key,a)\n",
    "            found = [j for j, value in d.items() if value == a]\n",
    "            #print(list(d.keys())[list(d.values()).index(key)])\n",
    "            #print(found)\n",
    "            for i in found:\n",
    "                print (i)\n",
    "    #print (a)\n",
    "   # [key for key, value in d.item() if ]\n",
    "    "
   ]
  },
  {
   "cell_type": "code",
   "execution_count": null,
   "metadata": {},
   "outputs": [],
   "source": []
  },
  {
   "cell_type": "code",
   "execution_count": null,
   "metadata": {},
   "outputs": [],
   "source": []
  }
 ],
 "metadata": {
  "kernelspec": {
   "display_name": "Python 3",
   "language": "python",
   "name": "python3"
  },
  "language_info": {
   "codemirror_mode": {
    "name": "ipython",
    "version": 3
   },
   "file_extension": ".py",
   "mimetype": "text/x-python",
   "name": "python",
   "nbconvert_exporter": "python",
   "pygments_lexer": "ipython3",
   "version": "3.6.9"
  }
 },
 "nbformat": 4,
 "nbformat_minor": 2
}
